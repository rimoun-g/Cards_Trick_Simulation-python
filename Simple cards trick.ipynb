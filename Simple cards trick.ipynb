{
 "cells": [
  {
   "cell_type": "code",
   "execution_count": 1,
   "metadata": {},
   "outputs": [],
   "source": [
    "def list_shuffle(dict_of_lists, group):\n",
    "    \"\"\"shuffle dictionary by putting the chosen group at the first place and converting all dictionary values to list\"\"\"\n",
    "    # create a main list to group the values in one place\n",
    "    mainlist = []\n",
    "    for i in dict_of_lists.values():\n",
    "        for j in range(len(i)):\n",
    "            mainlist.append(i[j])\n",
    "    list1 = []\n",
    "    # if the group is no. 1 returns the main list.\n",
    "    if group == 1:\n",
    "        return mainlist\n",
    "    # if the group is no. 2 or 3 it puts the group at the first place and then take the remaining items from the main list to include them behind the first group.\n",
    "    if group > 1:\n",
    "        for i in dict_of_lists[group]:\n",
    "            list1.append(i)\n",
    "    for i in mainlist:\n",
    "        if i not in list1:\n",
    "            list1.append(i)\n",
    "    return list1"
   ]
  },
  {
   "cell_type": "code",
   "execution_count": 2,
   "metadata": {},
   "outputs": [],
   "source": [
    "def list_groups(lst):\n",
    "    \"\"\"distributes the list on a dictionary with 3 keys\"\"\"\n",
    "    # initializing three lists and dictionary to store a list in each key.\n",
    "    x,y,z = [],[],[]\n",
    "    n = 0\n",
    "    try:\n",
    "        for i in range (n,len(lst),3) :\n",
    "            x.append(lst[i])\n",
    "            y.append(lst[i+1])\n",
    "            z.append(lst[i+2])\n",
    "        # assigning a list for each key and return the whole dictionary.\n",
    "    except: IndexError()\n",
    "    dct = {1:x,2:y,3:z}\n",
    "    return dct"
   ]
  },
  {
   "cell_type": "code",
   "execution_count": 3,
   "metadata": {},
   "outputs": [],
   "source": [
    "import numpy as np\n",
    "def random_list(letters_num, list_length = 17, gen_letters=True):\n",
    "    \"\"\"This function creates a random list of words/numbers based on the length of the given word, length of the list \n",
    "    and the type if the list is word list or numbers list\"\"\"\n",
    "    try:\n",
    "        # if the number of letters is not in the required range , it won't proceed.\n",
    "        if  2 < int(letters_num) <= 20:\n",
    "            if gen_letters:\n",
    "                letters ='abcdefghijklmnopqrstuvwxyz'\n",
    "            else:\n",
    "                letters ='0123456789'\n",
    "            ltrs = {}\n",
    "                # creating empty dictionary and splitting the letters into separate letters to save them as values in the dictionary\n",
    "            for k,v in enumerate(letters):\n",
    "                ltrs[k+1] = v\n",
    "                # we create an empty list to hold the generated words.\n",
    "                # we get a number by random from numpy and match it in the dictionary to get its corresponding letter/number.\n",
    "            rand_list = []\n",
    "            for i in range(list_length):\n",
    "                x= ''\n",
    "                for j in range(int(letters_num)): x +=  ltrs[np.random.randint(1,len(letters)+1)]\n",
    "                rand_list.append(x)\n",
    "            return rand_list\n",
    "        else:\n",
    "            raise ValueError(\"The entered value is not valid, enter a number from 3 to 20\")\n",
    "    except:\n",
    "        raise ValueError(\"The entered value is not valid, enter a number from 3 to 20\")"
   ]
  },
  {
   "cell_type": "code",
   "execution_count": 4,
   "metadata": {},
   "outputs": [],
   "source": [
    "def unicycle(userlist):\n",
    "    \"\"\"gets the user input and shuffles the list items\"\"\"\n",
    "    lst= list_groups(userlist)\n",
    "    print('In which group do you see it?\\n', lst,'\\nWrite the group number:')\n",
    "    userinpt= input()\n",
    "    firstshfl = list_shuffle(lst,int(userinpt))\n",
    "    return firstshfl"
   ]
  },
  {
   "cell_type": "code",
   "execution_count": 5,
   "metadata": {},
   "outputs": [],
   "source": [
    "def final_func(ulist):\n",
    "    \"\"\"loops three times through the previous function to play the game\"\"\"\n",
    "    if len(ulist) ==17:\n",
    "        print('choose a symbol and save it in your mind enter the group number, each time appears like 1, or 2, or 3')\n",
    "        for i in range(3):\n",
    "            a = unicycle(ulist)\n",
    "            ulist = a\n",
    "        print('your chosen symbol is', a[0])"
   ]
  },
  {
   "cell_type": "code",
   "execution_count": 6,
   "metadata": {},
   "outputs": [
    {
     "name": "stdout",
     "output_type": "stream",
     "text": [
      "choose a symbol and save it in your mind enter the group number, each time appears like 1, or 2, or 3\n",
      "In which group do you see it?\n",
      " {1: ['a1', 'a4', 'b3', 'c2', 'd1', 'd4'], 2: ['a2', 'b1', 'b4', 'c3', 'd2', 'e1'], 3: ['a3', 'b2', 'c1', 'c4', 'd3']} \n",
      "Write the group number:\n"
     ]
    },
    {
     "name": "stdin",
     "output_type": "stream",
     "text": [
      " 3\n"
     ]
    },
    {
     "name": "stdout",
     "output_type": "stream",
     "text": [
      "In which group do you see it?\n",
      " {1: ['a3', 'c4', 'a4', 'd1', 'b1', 'd2'], 2: ['b2', 'd3', 'b3', 'd4', 'b4', 'e1'], 3: ['c1', 'a1', 'c2', 'a2', 'c3']} \n",
      "Write the group number:\n"
     ]
    },
    {
     "name": "stdin",
     "output_type": "stream",
     "text": [
      " 2\n"
     ]
    },
    {
     "name": "stdout",
     "output_type": "stream",
     "text": [
      "In which group do you see it?\n",
      " {1: ['b2', 'd4', 'a3', 'd1', 'c1', 'a2'], 2: ['d3', 'b4', 'c4', 'b1', 'a1', 'c3'], 3: ['b3', 'e1', 'a4', 'd2', 'c2']} \n",
      "Write the group number:\n"
     ]
    },
    {
     "name": "stdin",
     "output_type": "stream",
     "text": [
      " 2\n"
     ]
    },
    {
     "name": "stdout",
     "output_type": "stream",
     "text": [
      "your chosen symbol is d3\n"
     ]
    }
   ],
   "source": [
    "# i will choose d3 value \n",
    "final_func(['a1', 'a2', 'a3', 'a4','b1', 'b2', 'b3', 'b4','c1', 'c2', 'c3', 'c4','d1', 'd2', 'd3', 'd4','e1'])"
   ]
  },
  {
   "cell_type": "code",
   "execution_count": 37,
   "metadata": {},
   "outputs": [],
   "source": [
    "# I will try with a different list \n",
    "# lets say K in group 2"
   ]
  },
  {
   "cell_type": "code",
   "execution_count": 7,
   "metadata": {},
   "outputs": [
    {
     "name": "stdout",
     "output_type": "stream",
     "text": [
      "choose a symbol and save it in your mind enter the group number, each time appears like 1, or 2, or 3\n",
      "In which group do you see it?\n",
      " {1: ['A', 'C', 'G', 'J', 'M', 'S'], 2: ['B', 'F', 'H', 'K', 'T', 'U'], 3: ['D', 'E', 'I', 'L', 'R']} \n",
      "Write the group number:\n"
     ]
    },
    {
     "name": "stdin",
     "output_type": "stream",
     "text": [
      " 2\n"
     ]
    },
    {
     "name": "stdout",
     "output_type": "stream",
     "text": [
      "In which group do you see it?\n",
      " {1: ['B', 'K', 'A', 'J', 'D', 'L'], 2: ['F', 'T', 'C', 'M', 'E', 'R'], 3: ['H', 'U', 'G', 'S', 'I']} \n",
      "Write the group number:\n"
     ]
    },
    {
     "name": "stdin",
     "output_type": "stream",
     "text": [
      " 1\n"
     ]
    },
    {
     "name": "stdout",
     "output_type": "stream",
     "text": [
      "In which group do you see it?\n",
      " {1: ['B', 'J', 'F', 'M', 'H', 'S'], 2: ['K', 'D', 'T', 'E', 'U', 'I'], 3: ['A', 'L', 'C', 'R', 'G']} \n",
      "Write the group number:\n"
     ]
    },
    {
     "name": "stdin",
     "output_type": "stream",
     "text": [
      " 2\n"
     ]
    },
    {
     "name": "stdout",
     "output_type": "stream",
     "text": [
      "your chosen symbol is K\n"
     ]
    }
   ],
   "source": [
    "final_func(['A', 'B', 'D', 'C','F', 'E', 'G', 'H','I', 'J', 'K', 'L','M', 'T', 'R', 'S','U'])"
   ]
  },
  {
   "cell_type": "code",
   "execution_count": 8,
   "metadata": {},
   "outputs": [
    {
     "name": "stdout",
     "output_type": "stream",
     "text": [
      "choose a symbol and save it in your mind enter the group number, each time appears like 1, or 2, or 3\n",
      "In which group do you see it?\n",
      " {1: ['8460', '0856', '3598', '3403', '9149', '9274'], 2: ['5811', '5076', '0357', '1585', '3270', '7379'], 3: ['7728', '8449', '3254', '0510', '7633']} \n",
      "Write the group number:\n"
     ]
    },
    {
     "name": "stdin",
     "output_type": "stream",
     "text": [
      " 3\n"
     ]
    },
    {
     "name": "stdout",
     "output_type": "stream",
     "text": [
      "In which group do you see it?\n",
      " {1: ['7728', '0510', '0856', '9149', '5076', '3270'], 2: ['8449', '7633', '3598', '9274', '0357', '7379'], 3: ['3254', '8460', '3403', '5811', '1585']} \n",
      "Write the group number:\n"
     ]
    },
    {
     "name": "stdin",
     "output_type": "stream",
     "text": [
      " 2\n"
     ]
    },
    {
     "name": "stdout",
     "output_type": "stream",
     "text": [
      "In which group do you see it?\n",
      " {1: ['8449', '9274', '7728', '9149', '3254', '5811'], 2: ['7633', '0357', '0510', '5076', '8460', '1585'], 3: ['3598', '7379', '0856', '3270', '3403']} \n",
      "Write the group number:\n"
     ]
    },
    {
     "name": "stdin",
     "output_type": "stream",
     "text": [
      " 2\n"
     ]
    },
    {
     "name": "stdout",
     "output_type": "stream",
     "text": [
      "your chosen symbol is 7633\n"
     ]
    }
   ],
   "source": [
    "final_func(random_list(4,gen_letters=False))"
   ]
  },
  {
   "cell_type": "code",
   "execution_count": null,
   "metadata": {},
   "outputs": [],
   "source": []
  }
 ],
 "metadata": {
  "kernelspec": {
   "display_name": "Python 3",
   "language": "python",
   "name": "python3"
  },
  "language_info": {
   "codemirror_mode": {
    "name": "ipython",
    "version": 3
   },
   "file_extension": ".py",
   "mimetype": "text/x-python",
   "name": "python",
   "nbconvert_exporter": "python",
   "pygments_lexer": "ipython3",
   "version": "3.6.8"
  }
 },
 "nbformat": 4,
 "nbformat_minor": 4
}
