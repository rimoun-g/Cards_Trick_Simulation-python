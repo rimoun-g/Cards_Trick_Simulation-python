{
 "cells": [
  {
   "cell_type": "code",
   "execution_count": 1,
   "metadata": {},
   "outputs": [],
   "source": [
    "def list_shuffle(dict_of_lists, group):\n",
    "    \"\"\"shuffle dictionary by putting the chosen group at the first place and converting all dictionary values to list\"\"\"\n",
    "    # create a main list to group the values in one place\n",
    "    mainlist = []\n",
    "    for i in dict_of_lists.values():\n",
    "        for j in range(len(i)):\n",
    "            mainlist.append(i[j])\n",
    "    list1 = []\n",
    "    # if the group is no. 1 returns the main list.\n",
    "    if group == 1:\n",
    "        return mainlist\n",
    "    # if the group is no. 2 or 3 it puts the group at the first place and then take the remaining items from the main list to include them behind the first group.\n",
    "    if group ==2:\n",
    "        for i in dict_of_lists[2]:\n",
    "            list1.append(i)\n",
    "    if group == 3:\n",
    "        for i in dict_of_lists[3]:\n",
    "            list1.append(i)\n",
    "    for i in mainlist:\n",
    "        if i not in list1:\n",
    "            list1.append(i)\n",
    "    return list1"
   ]
  },
  {
   "cell_type": "code",
   "execution_count": 4,
   "metadata": {},
   "outputs": [],
   "source": [
    "def list_groups(lst):\n",
    "    \"\"\"distributes the list on a dictionary with 3 keys\"\"\"\n",
    "    # initializing three lists and dictionary to store a list in each key.\n",
    "    x,y,z = [],[],[]\n",
    "    n = 0\n",
    "    try:\n",
    "        for i in range (n,len(lst),3) :\n",
    "            x.append(lst[i])\n",
    "            y.append(lst[i+1])\n",
    "            z.append(lst[i+2])\n",
    "        # assigning a list for each key and return the whole dictionary.\n",
    "    except: IndexError()\n",
    "    dct = {1:x,2:y,3:z}\n",
    "    return dct"
   ]
  },
  {
   "cell_type": "code",
   "execution_count": 18,
   "metadata": {},
   "outputs": [],
   "source": [
    "import numpy as np\n",
    "def random_list(letters_num, list_length = 17, gen_letters=True):\n",
    "    \"\"\"This function creates a random list of words/numbers based on the length of the given word, length of the list \n",
    "    and the type if the list is word list or numbers list\"\"\"\n",
    "    try:\n",
    "        # if the number of letters is not in the required range , it won't proceed.\n",
    "        if  2 < int(letters_num) <= 20:\n",
    "            if gen_letters:\n",
    "                letters ='abcdefghijklmnopqrstuvwxyz'\n",
    "            else:\n",
    "                letters ='0123456789'\n",
    "            ltrs = {}\n",
    "                # creating empty dictionary and splitting the letters into separate letters to save them as values in the dictionary\n",
    "            for k,v in enumerate(letters):\n",
    "                ltrs[k+1] = v\n",
    "                # we create an empty list to hold the generated words.\n",
    "                # we get a number by random from numpy and match it in the dictionary to get its corresponding letter/number.\n",
    "            rand_list = []\n",
    "            for i in range(list_length):\n",
    "                x= ''\n",
    "                for j in range(int(letters_num)): x +=  ltrs[np.random.randint(1,len(letters)+1)]\n",
    "                rand_list.append(x)\n",
    "            return rand_list\n",
    "        else:\n",
    "            raise ValueError(\"The entered value is not valid, enter a number from 3 to 20\")\n",
    "    except:\n",
    "        raise ValueError(\"The entered value is not valid, enter a number from 3 to 20\")"
   ]
  },
  {
   "cell_type": "code",
   "execution_count": 6,
   "metadata": {},
   "outputs": [],
   "source": [
    "def final_func(userlist):\n",
    "    \"\"\"This function does the trick and shows the output and takes the user input\"\"\"\n",
    "    # firstly we assigned our list with length of 17 item. \n",
    "    info = userlist\n",
    "    if len(userlist) ==17:\n",
    "        ####### 1 ########\n",
    "        # we save them in a dictionary and show it to the user.\n",
    "        firsList = list_groups(info)\n",
    "        print('choose a symbol and save it in your mind enter the group number, each time appears\\n', firsList,'\\nWrite the group number like 1, or 2, or 3')\n",
    "        # the user choses a symbol in his mind and then enters the number of the group where the symbol appears.\n",
    "        userinpt1= input()\n",
    "        firstshfl = list_shuffle(firsList,int(userinpt1))\n",
    "        \n",
    "         ####### 2 ########\n",
    "        secondList = list_groups(firstshfl)\n",
    "        # we repeat again the shuffle and take the user input for the group number.\n",
    "        print('In which group do you see it?\\n',secondList,'\\nWrite the group number')\n",
    "        userinpt2 = input()\n",
    "        secondshfl = list_shuffle(secondList,int(userinpt2))\n",
    "        \n",
    "         ####### 3 ########\n",
    "        thirdlist = list_groups(secondshfl)\n",
    "        # we repeat again the shuffle and take the user input for the group number.\n",
    "        print('In which group do you see it?\\n',thirdlist,'\\nWrite the group number')\n",
    "        userinpt3 = input()\n",
    "        \n",
    "         ####### final result ########\n",
    "        finalshfl = list_shuffle(thirdlist,int(userinpt3))\n",
    "        # finally, the first value in the list will be the user's choice. If the value is wrong this means the user changed his mind or entered a wrong group number\n",
    "        print('your chosen symbol is', finalshfl[0])\n",
    "    else:\n",
    "        raise ValueError(\"the entered values are not valid\")"
   ]
  },
  {
   "cell_type": "code",
   "execution_count": 7,
   "metadata": {},
   "outputs": [
    {
     "name": "stdout",
     "output_type": "stream",
     "text": [
      "choose a symbol and save it in your mind enter the group number, each time appears\n",
      " {1: ['a1', 'a4', 'b3', 'c2', 'd1', 'd4'], 2: ['a2', 'b1', 'b4', 'c3', 'd2', 'e1'], 3: ['a3', 'b2', 'c1', 'c4', 'd3']} \n",
      "Write the group number like 1, or 2, or 3\n"
     ]
    },
    {
     "name": "stdin",
     "output_type": "stream",
     "text": [
      " 3\n"
     ]
    },
    {
     "name": "stdout",
     "output_type": "stream",
     "text": [
      "In which group do you see it?\n",
      " {1: ['a3', 'c4', 'a4', 'd1', 'b1', 'd2'], 2: ['b2', 'd3', 'b3', 'd4', 'b4', 'e1'], 3: ['c1', 'a1', 'c2', 'a2', 'c3']} \n",
      "Write the group number\n"
     ]
    },
    {
     "name": "stdin",
     "output_type": "stream",
     "text": [
      " 2\n"
     ]
    },
    {
     "name": "stdout",
     "output_type": "stream",
     "text": [
      "In which group do you see it?\n",
      " {1: ['b2', 'd4', 'a3', 'd1', 'c1', 'a2'], 2: ['d3', 'b4', 'c4', 'b1', 'a1', 'c3'], 3: ['b3', 'e1', 'a4', 'd2', 'c2']} \n",
      "Write the group number\n"
     ]
    },
    {
     "name": "stdin",
     "output_type": "stream",
     "text": [
      " 2\n"
     ]
    },
    {
     "name": "stdout",
     "output_type": "stream",
     "text": [
      "your chosen symbol is d3\n"
     ]
    }
   ],
   "source": [
    "# i will choose d3 value \n",
    "final_func(['a1', 'a2', 'a3', 'a4','b1', 'b2', 'b3', 'b4','c1', 'c2', 'c3', 'c4','d1', 'd2', 'd3', 'd4','e1'])"
   ]
  },
  {
   "cell_type": "code",
   "execution_count": 13,
   "metadata": {},
   "outputs": [],
   "source": [
    "# I will try with a different list \n",
    "# lets say K in group 2"
   ]
  },
  {
   "cell_type": "code",
   "execution_count": 24,
   "metadata": {},
   "outputs": [
    {
     "name": "stdout",
     "output_type": "stream",
     "text": [
      "choose a symbol and save it in your mind enter the group number, each time appears\n",
      " {1: ['A', 'C', 'G', 'J', 'M', 'S'], 2: ['B', 'F', 'H', 'K', 'T', 'U'], 3: ['D', 'E', 'I', 'L', 'R']} \n",
      "Write the group number like 1, or 2, or 3\n"
     ]
    },
    {
     "name": "stdin",
     "output_type": "stream",
     "text": [
      " 1\n"
     ]
    },
    {
     "name": "stdout",
     "output_type": "stream",
     "text": [
      "In which group do you see it?\n",
      " {1: ['A', 'J', 'B', 'K', 'D', 'L'], 2: ['C', 'M', 'F', 'T', 'E', 'R'], 3: ['G', 'S', 'H', 'U', 'I']} \n",
      "Write the group number\n"
     ]
    },
    {
     "name": "stdin",
     "output_type": "stream",
     "text": [
      " 1\n"
     ]
    },
    {
     "name": "stdout",
     "output_type": "stream",
     "text": [
      "In which group do you see it?\n",
      " {1: ['A', 'K', 'C', 'T', 'G', 'U'], 2: ['J', 'D', 'M', 'E', 'S', 'I'], 3: ['B', 'L', 'F', 'R', 'H']} \n",
      "Write the group number\n"
     ]
    },
    {
     "name": "stdin",
     "output_type": "stream",
     "text": [
      " 2\n"
     ]
    },
    {
     "name": "stdout",
     "output_type": "stream",
     "text": [
      "your chosen symbol is J\n"
     ]
    }
   ],
   "source": [
    "final_func(['A', 'B', 'D', 'C','F', 'E', 'G', 'H','I', 'J', 'K', 'L','M', 'T', 'R', 'S','U'])"
   ]
  },
  {
   "cell_type": "code",
   "execution_count": 19,
   "metadata": {},
   "outputs": [
    {
     "name": "stdout",
     "output_type": "stream",
     "text": [
      "choose a symbol and save it in your mind enter the group number, each time appears\n",
      " {1: ['6080', '1105', '6381', '7408', '4254', '1559'], 2: ['6256', '2227', '9085', '6522', '2551', '2430'], 3: ['2636', '9075', '5324', '2283', '9054']} \n",
      "Write the group number like 1, or 2, or 3\n"
     ]
    },
    {
     "name": "stdin",
     "output_type": "stream",
     "text": [
      " 2\n"
     ]
    },
    {
     "name": "stdout",
     "output_type": "stream",
     "text": [
      "In which group do you see it?\n",
      " {1: ['6256', '6522', '6080', '7408', '2636', '2283'], 2: ['2227', '2551', '1105', '4254', '9075', '9054'], 3: ['9085', '2430', '6381', '1559', '5324']} \n",
      "Write the group number\n"
     ]
    },
    {
     "name": "stdin",
     "output_type": "stream",
     "text": [
      " 3\n"
     ]
    },
    {
     "name": "stdout",
     "output_type": "stream",
     "text": [
      "In which group do you see it?\n",
      " {1: ['9085', '1559', '6522', '2636', '2551', '9075'], 2: ['2430', '5324', '6080', '2283', '1105', '9054'], 3: ['6381', '6256', '7408', '2227', '4254']} \n",
      "Write the group number\n"
     ]
    },
    {
     "name": "stdin",
     "output_type": "stream",
     "text": [
      " 2\n"
     ]
    },
    {
     "name": "stdout",
     "output_type": "stream",
     "text": [
      "your chosen symbol is 2430\n"
     ]
    }
   ],
   "source": [
    "final_func(random_list(4,gen_letters=False))"
   ]
  },
  {
   "cell_type": "code",
   "execution_count": 20,
   "metadata": {},
   "outputs": [
    {
     "name": "stdout",
     "output_type": "stream",
     "text": [
      "choose a symbol and save it in your mind enter the group number, each time appears\n",
      " {1: ['ydbq', 'xzeo', 'tgbm', 'wsrv', 'inor', 'inol'], 2: ['rmll', 'lbhx', 'lyek', 'vhcr', 'ejxk', 'ywty'], 3: ['yued', 'tebn', 'tsbr', 'daog', 'fpyc']} \n",
      "Write the group number like 1, or 2, or 3\n"
     ]
    },
    {
     "name": "stdin",
     "output_type": "stream",
     "text": [
      " 2\n"
     ]
    },
    {
     "name": "stdout",
     "output_type": "stream",
     "text": [
      "In which group do you see it?\n",
      " {1: ['rmll', 'vhcr', 'ydbq', 'wsrv', 'yued', 'daog'], 2: ['lbhx', 'ejxk', 'xzeo', 'inor', 'tebn', 'fpyc'], 3: ['lyek', 'ywty', 'tgbm', 'inol', 'tsbr']} \n",
      "Write the group number\n"
     ]
    },
    {
     "name": "stdin",
     "output_type": "stream",
     "text": [
      " 1\n"
     ]
    },
    {
     "name": "stdout",
     "output_type": "stream",
     "text": [
      "In which group do you see it?\n",
      " {1: ['rmll', 'wsrv', 'lbhx', 'inor', 'lyek', 'inol'], 2: ['vhcr', 'yued', 'ejxk', 'tebn', 'ywty', 'tsbr'], 3: ['ydbq', 'daog', 'xzeo', 'fpyc', 'tgbm']} \n",
      "Write the group number\n"
     ]
    },
    {
     "name": "stdin",
     "output_type": "stream",
     "text": [
      " 1\n"
     ]
    },
    {
     "name": "stdout",
     "output_type": "stream",
     "text": [
      "your chosen symbol is rmll\n"
     ]
    }
   ],
   "source": [
    "final_func(random_list(4))"
   ]
  },
  {
   "cell_type": "code",
   "execution_count": null,
   "metadata": {},
   "outputs": [],
   "source": []
  }
 ],
 "metadata": {
  "kernelspec": {
   "display_name": "Python 3",
   "language": "python",
   "name": "python3"
  },
  "language_info": {
   "codemirror_mode": {
    "name": "ipython",
    "version": 3
   },
   "file_extension": ".py",
   "mimetype": "text/x-python",
   "name": "python",
   "nbconvert_exporter": "python",
   "pygments_lexer": "ipython3",
   "version": "3.6.8"
  }
 },
 "nbformat": 4,
 "nbformat_minor": 4
}
