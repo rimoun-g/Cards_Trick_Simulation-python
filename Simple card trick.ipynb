{
 "cells": [
  {
   "cell_type": "code",
   "execution_count": 4,
   "metadata": {},
   "outputs": [],
   "source": [
    "def list_shuffle(dict_of_lists, group):\n",
    "    \"\"\"shuffle dictionary by putting the chosen group at the first place and converting all dictionary values to list\"\"\"\n",
    "    # create a main list to group the values in one place\n",
    "    mainlist = []\n",
    "    for i in dict_of_lists.values():\n",
    "        for j in range(len(i)):\n",
    "            mainlist.append(i[j])\n",
    "    list1 = []\n",
    "    # if the group is no. 1 returns the main list\n",
    "    if group == 1:\n",
    "        return mainlist\n",
    "    # if the group is no. 2 it puts the group at the first place and then take the remaining items\n",
    "    # from the main list to include them behind the first group and the same for no. 3\n",
    "    if group ==2:\n",
    "        for i in dict_of_lists[2]:\n",
    "            list1.append(i)\n",
    "        for i in mainlist:\n",
    "            if i not in list1:\n",
    "                list1.append(i)\n",
    "        return list1\n",
    "    if group == 3:\n",
    "        for i in dict_of_lists[3]:\n",
    "            list1.append(i)\n",
    "        for i in mainlist:\n",
    "            if i not in list1:\n",
    "                list1.append(i)\n",
    "        return list1"
   ]
  },
  {
   "cell_type": "code",
   "execution_count": 5,
   "metadata": {},
   "outputs": [],
   "source": [
    "def list_groups(lst):\n",
    "    \"\"\"converts the list returned from list_shuffle function to a dictionary with 3 keys includes all the items in the list to show them to the user\"\"\"\n",
    "    # initializing three lists and dictionary to store a list in each key.\n",
    "    x = []\n",
    "    y = []\n",
    "    z = []\n",
    "    n = 0\n",
    "    dct = {}\n",
    "    for i in range (n,len(lst)-2,3) :\n",
    "        x.append(lst[i])\n",
    "        y.append(lst[i+1])\n",
    "        z.append(lst[i+2])\n",
    "    # the list length is 17, however the loop will cause error as we cannot change the step so we add them manually.\n",
    "    x.append(lst[-2])\n",
    "    y.append(lst[-1])\n",
    "    # finally we assing a list for each key and return the whole dictionary.\n",
    "    dct[1] = x\n",
    "    dct[2] = y\n",
    "    dct[3] = z\n",
    "    return dct"
   ]
  },
  {
   "cell_type": "code",
   "execution_count": 7,
   "metadata": {},
   "outputs": [],
   "source": [
    "def final_func(userlist):\n",
    "    \"\"\"This function does the trick and shows the output and takes the user input\"\"\"\n",
    "    # firstly we assigned our list with length of 17 item. \n",
    "    info = userlist\n",
    "    if len(userlist) ==17:\n",
    "        # we save them in a dictionary and show it to the user.\n",
    "        firsList = list_groups(info)\n",
    "        print('choose a symbol and save it in your mind enter the group number, each time appears\\n', firsList,'\\nWrite thr group number like 1, or 2, or 3')\n",
    "        # the user choses a symbol in his mind and then enters the number of the group where the symbol appears.\n",
    "        userinpt1= input()\n",
    "        firstshfl = list_shuffle(firsList,int(userinpt1))\n",
    "        secondList = list_groups(firstshfl)\n",
    "        # we repeat again the shuffle and take the user input for the group number.\n",
    "        print('In which group do you see it?\\n',secondList,'\\nWrite thr group number')\n",
    "        userinpt2 = input()\n",
    "        secondshfl = list_shuffle(secondList,int(userinpt2))\n",
    "        thirdlist = list_groups(secondshfl)\n",
    "        # we repeat again the shuffle and take the user input for the group number.\n",
    "        print('In which group do you see it?\\n',thirdlist,'\\nWrite thr group number')\n",
    "        userinpt3 = input()\n",
    "        finalshfl = list_shuffle(thirdlist,int(userinpt3))\n",
    "        # finally, the first value in the list will be the user choice. If the value is wrong this means the user changed his mind or put a wrong group number\n",
    "        print('your chosen symbol is', finalshfl[0])\n",
    "    else:\n",
    "        raise ValueError(\"the entered values are not valid\")"
   ]
  },
  {
   "cell_type": "code",
   "execution_count": 8,
   "metadata": {},
   "outputs": [
    {
     "name": "stdout",
     "output_type": "stream",
     "text": [
      "choose a symbol and save it in your mind enter the group number, each time appears\n",
      " {1: ['a1', 'a4', 'b3', 'c2', 'd1', 'd4'], 2: ['a2', 'b1', 'b4', 'c3', 'd2', 'e1'], 3: ['a3', 'b2', 'c1', 'c4', 'd3']} \n",
      "Write thr group number like 1, or 2, or 3\n"
     ]
    },
    {
     "name": "stdin",
     "output_type": "stream",
     "text": [
      " 3\n"
     ]
    },
    {
     "name": "stdout",
     "output_type": "stream",
     "text": [
      "In which group do you see it?\n",
      " {1: ['a3', 'c4', 'a4', 'd1', 'b1', 'd2'], 2: ['b2', 'd3', 'b3', 'd4', 'b4', 'e1'], 3: ['c1', 'a1', 'c2', 'a2', 'c3']} \n",
      "Write thr group number\n"
     ]
    },
    {
     "name": "stdin",
     "output_type": "stream",
     "text": [
      " 2\n"
     ]
    },
    {
     "name": "stdout",
     "output_type": "stream",
     "text": [
      "In which group do you see it?\n",
      " {1: ['b2', 'd4', 'a3', 'd1', 'c1', 'a2'], 2: ['d3', 'b4', 'c4', 'b1', 'a1', 'c3'], 3: ['b3', 'e1', 'a4', 'd2', 'c2']} \n",
      "Write thr group number\n"
     ]
    },
    {
     "name": "stdin",
     "output_type": "stream",
     "text": [
      " 2\n"
     ]
    },
    {
     "name": "stdout",
     "output_type": "stream",
     "text": [
      "your chosen symbol is d3\n"
     ]
    }
   ],
   "source": [
    "# i will choose d3 value \n",
    "final_func(['a1', 'a2', 'a3', 'a4','b1', 'b2', 'b3', 'b4','c1', 'c2', 'c3', 'c4','d1', 'd2', 'd3', 'd4','e1'])"
   ]
  },
  {
   "cell_type": "code",
   "execution_count": 13,
   "metadata": {},
   "outputs": [],
   "source": [
    "# I will try with a different list \n",
    "# lets say K in group 2"
   ]
  },
  {
   "cell_type": "code",
   "execution_count": 12,
   "metadata": {},
   "outputs": [
    {
     "name": "stdout",
     "output_type": "stream",
     "text": [
      "choose a symbole and save it in your mind enter the group number, each time appears\n",
      " {1: ['A', 'C', 'G', 'J', 'M', 'S'], 2: ['B', 'F', 'H', 'K', 'T', 'U'], 3: ['D', 'E', 'I', 'L', 'R']} \n",
      "Write thr group number like 1, or 2, or 3\n"
     ]
    },
    {
     "name": "stdin",
     "output_type": "stream",
     "text": [
      " 2\n"
     ]
    },
    {
     "name": "stdout",
     "output_type": "stream",
     "text": [
      "In which group do you see it?\n",
      " {1: ['B', 'K', 'A', 'J', 'D', 'L'], 2: ['F', 'T', 'C', 'M', 'E', 'R'], 3: ['H', 'U', 'G', 'S', 'I']} \n",
      "Write thr group number\n"
     ]
    },
    {
     "name": "stdin",
     "output_type": "stream",
     "text": [
      " 1\n"
     ]
    },
    {
     "name": "stdout",
     "output_type": "stream",
     "text": [
      "In which group do you see it?\n",
      " {1: ['B', 'J', 'F', 'M', 'H', 'S'], 2: ['K', 'D', 'T', 'E', 'U', 'I'], 3: ['A', 'L', 'C', 'R', 'G']} \n",
      "Write thr group number\n"
     ]
    },
    {
     "name": "stdin",
     "output_type": "stream",
     "text": [
      " 2\n"
     ]
    },
    {
     "name": "stdout",
     "output_type": "stream",
     "text": [
      "your chosen symbole is K\n"
     ]
    }
   ],
   "source": [
    "final_func(['A', 'B', 'D', 'C','F', 'E', 'G', 'H','I', 'J', 'K', 'L','M', 'T', 'R', 'S','U'])"
   ]
  },
  {
   "cell_type": "code",
   "execution_count": 2,
   "metadata": {},
   "outputs": [],
   "source": [
    "import numpy as np\n",
    "def random_list(letters_num, list_length = 17, gen_letters=True):\n",
    "    \"\"\"This function creates a random list of words/numbers based on the length of the given word, length of the list \n",
    "    and the type if the list is word list or numbers list\"\"\"\n",
    "    try:\n",
    "        # if the number of letters is not in the required range , it won't proceed.\n",
    "        if int(letters_num) > 2 and int(letters_num) < 21:\n",
    "            if gen_letters:\n",
    "                letters ='abcdefghijklmnopqrstuvwxyz'\n",
    "                ltrs = {}\n",
    "                x = 1\n",
    "                # creating empty dictionary and splitting the letters into separate letters to save them as values in the dictionary\n",
    "                for i in letters:\n",
    "                    ltrs[x] = i\n",
    "                    x+=1\n",
    "                rand_list = []\n",
    "                # we create an empty list to hold the generated words.\n",
    "                # we get a number by random from numpy and match it in the dictionary to get its corresponding letter.\n",
    "                for i in range(list_length):\n",
    "                    x= ''\n",
    "                    for j in range(int(letters_num)):\n",
    "                        x +=  ltrs[np.random.randint(1,len(letters)+1)]\n",
    "                    rand_list.append(x)\n",
    "            else:\n",
    "                # we use the same method with numbers to generate random combinations of numbers but treated as strings\n",
    "                letters ='0123456789'\n",
    "                ltrs = {}\n",
    "                x = 1\n",
    "                for i in letters:\n",
    "                    ltrs[x] = i\n",
    "                    x+=1\n",
    "                rand_list = []\n",
    "                for i in range(list_length):\n",
    "                    x= ''\n",
    "                    for j in range(int(letters_num)):\n",
    "                        x +=  ltrs[np.random.randint(1,len(letters)+1)]\n",
    "                    rand_list.append(x)\n",
    "            return rand_list\n",
    "    except:\n",
    "        print(\"The entered value is not valid, enter a number from 3 to 20\")"
   ]
  },
  {
   "cell_type": "code",
   "execution_count": 107,
   "metadata": {},
   "outputs": [
    {
     "name": "stdout",
     "output_type": "stream",
     "text": [
      "choose a symbole and save it in your mind enter the group number, each time appears\n",
      " {1: ['8739', '0219', '1337', '5840', '9356', '6045'], 2: ['7996', '5531', '7551', '4946', '4849', '6680'], 3: ['1424', '8405', '9951', '0086', '4332']} \n",
      "Write thr group number like 1, or 2, or 3\n"
     ]
    },
    {
     "name": "stdin",
     "output_type": "stream",
     "text": [
      " 3\n"
     ]
    },
    {
     "name": "stdout",
     "output_type": "stream",
     "text": [
      "In which group do you see it?\n",
      " {1: ['1424', '0086', '0219', '9356', '5531', '4849'], 2: ['8405', '4332', '1337', '6045', '7551', '6680'], 3: ['9951', '8739', '5840', '7996', '4946']} \n",
      "Write thr group number\n"
     ]
    },
    {
     "name": "stdin",
     "output_type": "stream",
     "text": [
      " 2\n"
     ]
    },
    {
     "name": "stdout",
     "output_type": "stream",
     "text": [
      "In which group do you see it?\n",
      " {1: ['8405', '6045', '1424', '9356', '9951', '7996'], 2: ['4332', '7551', '0086', '5531', '8739', '4946'], 3: ['1337', '6680', '0219', '4849', '5840']} \n",
      "Write thr group number\n"
     ]
    },
    {
     "name": "stdin",
     "output_type": "stream",
     "text": [
      " 2\n"
     ]
    },
    {
     "name": "stdout",
     "output_type": "stream",
     "text": [
      "your chosen symbole is 4332\n"
     ]
    }
   ],
   "source": [
    "final_func(random_list(4,gen_letters=False))"
   ]
  },
  {
   "cell_type": "code",
   "execution_count": 116,
   "metadata": {},
   "outputs": [
    {
     "name": "stdout",
     "output_type": "stream",
     "text": [
      "choose a symbole and save it in your mind enter the group number, each time appears\n",
      " {1: ['3851', '4953', '7419', '7338', '7308', '4046'], 2: ['2585', '5891', '3509', '8302', '0148', '1865'], 3: ['9799', '0227', '9614', '4853', '0034']} \n",
      "Write thr group number like 1, or 2, or 3\n"
     ]
    },
    {
     "name": "stdin",
     "output_type": "stream",
     "text": [
      " 3\n"
     ]
    },
    {
     "name": "stdout",
     "output_type": "stream",
     "text": [
      "In which group do you see it?\n",
      " {1: ['9799', '4853', '4953', '7308', '5891', '0148'], 2: ['0227', '0034', '7419', '4046', '3509', '1865'], 3: ['9614', '3851', '7338', '2585', '8302']} \n",
      "Write thr group number\n"
     ]
    },
    {
     "name": "stdin",
     "output_type": "stream",
     "text": [
      " 3\n"
     ]
    },
    {
     "name": "stdout",
     "output_type": "stream",
     "text": [
      "In which group do you see it?\n",
      " {1: ['9614', '2585', '4853', '5891', '0034', '3509'], 2: ['3851', '8302', '4953', '0148', '7419', '1865'], 3: ['7338', '9799', '7308', '0227', '4046']} \n",
      "Write thr group number\n"
     ]
    },
    {
     "name": "stdin",
     "output_type": "stream",
     "text": [
      " 1\n"
     ]
    },
    {
     "name": "stdout",
     "output_type": "stream",
     "text": [
      "your chosen symbole is 9614\n"
     ]
    }
   ],
   "source": [
    "final_func(random_list(4,gen_letters=False))"
   ]
  },
  {
   "cell_type": "code",
   "execution_count": null,
   "metadata": {},
   "outputs": [],
   "source": []
  }
 ],
 "metadata": {
  "kernelspec": {
   "display_name": "Python 3",
   "language": "python",
   "name": "python3"
  },
  "language_info": {
   "codemirror_mode": {
    "name": "ipython",
    "version": 3
   },
   "file_extension": ".py",
   "mimetype": "text/x-python",
   "name": "python",
   "nbconvert_exporter": "python",
   "pygments_lexer": "ipython3",
   "version": "3.6.8"
  }
 },
 "nbformat": 4,
 "nbformat_minor": 4
}
